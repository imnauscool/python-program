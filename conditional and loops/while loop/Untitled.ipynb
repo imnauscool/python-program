{
 "cells": [
  {
   "cell_type": "markdown",
   "id": "3f4074e4",
   "metadata": {},
   "source": [
    "# while loop"
   ]
  },
  {
   "cell_type": "code",
   "execution_count": 1,
   "id": "c3c5bc43",
   "metadata": {},
   "outputs": [
    {
     "name": "stdout",
     "output_type": "stream",
     "text": [
      "4\n",
      "1\n",
      "1\n",
      "1\n",
      "1\n"
     ]
    }
   ],
   "source": [
    "n=int(input())\n",
    "count=1\n",
    "while count<=n:\n",
    "    print(1)\n",
    "    count=count+1"
   ]
  },
  {
   "cell_type": "code",
   "execution_count": 2,
   "id": "850b980e",
   "metadata": {},
   "outputs": [
    {
     "name": "stdout",
     "output_type": "stream",
     "text": [
      "10\n",
      "1\n",
      "2\n",
      "3\n",
      "4\n",
      "5\n",
      "6\n",
      "7\n",
      "8\n",
      "9\n",
      "10\n"
     ]
    }
   ],
   "source": [
    "#print n natural number\n",
    "n=int(input())\n",
    "count=1\n",
    "while count<=n:\n",
    "    print(count)\n",
    "    count=count+1\n"
   ]
  },
  {
   "cell_type": "code",
   "execution_count": 1,
   "id": "386d91fd",
   "metadata": {},
   "outputs": [
    {
     "name": "stdout",
     "output_type": "stream",
     "text": [
      "4\n",
      "10\n"
     ]
    }
   ],
   "source": [
    "n = int(input())\n",
    "sum = 0\n",
    "i = 1\n",
    "while (i<=n):\n",
    "    sum = sum + i\n",
    "    i = i+1\n",
    "print(sum)"
   ]
  },
  {
   "cell_type": "markdown",
   "id": "97c1c0bf",
   "metadata": {},
   "source": [
    "# check whether number is prime or not"
   ]
  },
  {
   "cell_type": "code",
   "execution_count": 3,
   "id": "d229c3b2",
   "metadata": {},
   "outputs": [
    {
     "name": "stdout",
     "output_type": "stream",
     "text": [
      "7\n",
      "is prime\n"
     ]
    }
   ],
   "source": [
    "n = int(input())\n",
    "i=2\n",
    "isprime= True\n",
    "while i<n:\n",
    "    if (n%i==0):\n",
    "        isprime=False\n",
    "    i=i+1\n",
    "if isprime:\n",
    "    print(\"is prime\")\n",
    "else:\n",
    "    print(\"is not prime\")\n",
    "\n"
   ]
  },
  {
   "cell_type": "markdown",
   "id": "dc031c7f",
   "metadata": {},
   "source": [
    "# print all prime"
   ]
  },
  {
   "cell_type": "code",
   "execution_count": 1,
   "id": "8fdd14c9",
   "metadata": {},
   "outputs": [
    {
     "name": "stdout",
     "output_type": "stream",
     "text": [
      "20\n",
      "2\n",
      "3\n",
      "5\n",
      "7\n",
      "11\n",
      "13\n",
      "17\n",
      "19\n"
     ]
    }
   ],
   "source": [
    "n = int(input())\n",
    "k=2\n",
    "while k<=n:\n",
    "    i=2\n",
    "    isprime= False\n",
    "    while i<k:\n",
    "        if (k%i==0):\n",
    "            isprime=True\n",
    "        i=i+1\n",
    "    if (not(isprime)):\n",
    "        print(k)\n",
    "    k=k+1"
   ]
  },
  {
   "cell_type": "markdown",
   "id": "d16d0bfa",
   "metadata": {},
   "source": [
    "# reverse number"
   ]
  },
  {
   "cell_type": "code",
   "execution_count": 4,
   "id": "89b73528",
   "metadata": {},
   "outputs": [
    {
     "name": "stdout",
     "output_type": "stream",
     "text": [
      "enter the number::432\n",
      "the reverse number is: 234\n"
     ]
    }
   ],
   "source": [
    "i= int(input(\"enter the number::\"))\n",
    "rev=0\n",
    "while i>0:\n",
    "    rev=(rev*10)+i%10\n",
    "    i=i//10\n",
    "print(\"the reverse number is:\",rev);"
   ]
  }
 ],
 "metadata": {
  "kernelspec": {
   "display_name": "Python 3 (ipykernel)",
   "language": "python",
   "name": "python3"
  },
  "language_info": {
   "codemirror_mode": {
    "name": "ipython",
    "version": 3
   },
   "file_extension": ".py",
   "mimetype": "text/x-python",
   "name": "python",
   "nbconvert_exporter": "python",
   "pygments_lexer": "ipython3",
   "version": "3.9.6"
  }
 },
 "nbformat": 4,
 "nbformat_minor": 5
}
