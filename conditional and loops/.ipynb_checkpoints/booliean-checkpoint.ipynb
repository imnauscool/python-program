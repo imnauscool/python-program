{
 "cells": [
  {
   "cell_type": "markdown",
   "id": "c75044ce",
   "metadata": {},
   "source": [
    "# booliean"
   ]
  },
  {
   "cell_type": "code",
   "execution_count": null,
   "id": "8ad42432",
   "metadata": {},
   "outputs": [],
   "source": []
  },
  {
   "cell_type": "code",
   "execution_count": 4,
   "id": "491971d9",
   "metadata": {},
   "outputs": [
    {
     "name": "stdout",
     "output_type": "stream",
     "text": [
      "False\n",
      "True\n",
      "False\n",
      "True\n",
      "False\n",
      "True\n"
     ]
    }
   ],
   "source": [
    "a=10\n",
    "b=20\n",
    "print(a>b)\n",
    "print(a<b)\n",
    "print(a==b)\n",
    "print(a<=b)\n",
    "print(a>=b)\n",
    "print(a!=b)"
   ]
  },
  {
   "cell_type": "code",
   "execution_count": 7,
   "id": "f2afd0d0",
   "metadata": {},
   "outputs": [
    {
     "name": "stdout",
     "output_type": "stream",
     "text": [
      "False\n",
      "True\n",
      "True\n"
     ]
    }
   ],
   "source": [
    "c1=a>10\n",
    "c2=b>10\n",
    "r1=c1 and c2\n",
    "r2=c1 or c2\n",
    "r3=not(c1)\n",
    "print(r1)\n",
    "print(r2)\n",
    "print(r3)"
   ]
  },
  {
   "cell_type": "markdown",
   "id": "b2c47b5e",
   "metadata": {},
   "source": [
    "# to find even or odd"
   ]
  },
  {
   "cell_type": "code",
   "execution_count": 9,
   "id": "f037bc46",
   "metadata": {},
   "outputs": [
    {
     "name": "stdout",
     "output_type": "stream",
     "text": [
      "4\n",
      "n is even\n"
     ]
    }
   ],
   "source": [
    "n=int(input())\n",
    "\n",
    "if n%2==0:\n",
    "    print(\"n is even\")\n",
    "else:\n",
    "    print(\"n is odd\")"
   ]
  },
  {
   "cell_type": "code",
   "execution_count": 17,
   "id": "926a8488",
   "metadata": {},
   "outputs": [
    {
     "name": "stdout",
     "output_type": "stream",
     "text": [
      "12\n",
      "20\n",
      "both >10\n"
     ]
    }
   ],
   "source": [
    "a=int(input())\n",
    "b=int(input())\n",
    "\n",
    "if a>10 and b>10:\n",
    "    print(\"both >10\")\n",
    "else:\n",
    "    print(\"they are not\")"
   ]
  },
  {
   "cell_type": "markdown",
   "id": "33913df0",
   "metadata": {},
   "source": [
    "# greatest of three number"
   ]
  },
  {
   "cell_type": "code",
   "execution_count": 1,
   "id": "f529de08",
   "metadata": {},
   "outputs": [
    {
     "name": "stdout",
     "output_type": "stream",
     "text": [
      "20\n",
      "15\n",
      "10\n",
      "a is greater\n"
     ]
    }
   ],
   "source": [
    "a=int(input())\n",
    "b=int(input())\n",
    "c=int(input())\n",
    "if a>b and a>c:\n",
    "    print(\"a is greater\")"
   ]
  },
  {
   "cell_type": "markdown",
   "id": "33aab5e1",
   "metadata": {},
   "source": [
    "# else-if"
   ]
  },
  {
   "cell_type": "code",
   "execution_count": 5,
   "id": "d8f49bc6",
   "metadata": {},
   "outputs": [
    {
     "name": "stdout",
     "output_type": "stream",
     "text": [
      "5\n",
      "4\n",
      "3\n",
      "5\n"
     ]
    }
   ],
   "source": [
    "a=int(input())\n",
    "b=int(input())\n",
    "c=int(input())\n",
    "if a>=b and a>=c:\n",
    "    print(a)\n",
    "elif b>=a and b>=c:\n",
    "    print(b)\n",
    "else:\n",
    "    print(c)"
   ]
  },
  {
   "cell_type": "code",
   "execution_count": 7,
   "id": "009553dc",
   "metadata": {},
   "outputs": [
    {
     "name": "stdout",
     "output_type": "stream",
     "text": [
      "6\n",
      "green\n"
     ]
    }
   ],
   "source": [
    "n=int(input())\n",
    "if n>10:\n",
    "    print(\"red\")\n",
    "elif 10>=n>=5:\n",
    "    print(\"green\")\n",
    "elif 5>n>0:\n",
    "    print(\"yellow\")\n",
    "else:\n",
    "    print(\"do not print\")"
   ]
  },
  {
   "cell_type": "markdown",
   "id": "c7eabb83",
   "metadata": {},
   "source": [
    "# nested-if"
   ]
  },
  {
   "cell_type": "code",
   "execution_count": 9,
   "id": "4695fcf7",
   "metadata": {},
   "outputs": [
    {
     "name": "stdout",
     "output_type": "stream",
     "text": [
      "0\n",
      "n is even\n",
      "n is zero\n"
     ]
    }
   ],
   "source": [
    "n=int(input())\n",
    "\n",
    "if n%2==0:\n",
    "    print(\"n is even\")\n",
    "if n==0:\n",
    "    print(\"n is zero\")\n",
    "else:\n",
    "    print(\"n is odd\")"
   ]
  },
  {
   "cell_type": "code",
   "execution_count": null,
   "id": "d888024a",
   "metadata": {},
   "outputs": [],
   "source": []
  }
 ],
 "metadata": {
  "kernelspec": {
   "display_name": "Python 3 (ipykernel)",
   "language": "python",
   "name": "python3"
  },
  "language_info": {
   "codemirror_mode": {
    "name": "ipython",
    "version": 3
   },
   "file_extension": ".py",
   "mimetype": "text/x-python",
   "name": "python",
   "nbconvert_exporter": "python",
   "pygments_lexer": "ipython3",
   "version": "3.9.6"
  }
 },
 "nbformat": 4,
 "nbformat_minor": 5
}
