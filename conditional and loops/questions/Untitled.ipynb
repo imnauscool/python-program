{
 "cells": [
  {
   "cell_type": "markdown",
   "id": "2d5a3810",
   "metadata": {},
   "source": [
    "# find remainder when divided by 2"
   ]
  },
  {
   "cell_type": "code",
   "execution_count": 1,
   "id": "6201c425",
   "metadata": {},
   "outputs": [
    {
     "name": "stdout",
     "output_type": "stream",
     "text": [
      "5\n",
      "1\n"
     ]
    }
   ],
   "source": [
    "n=int(input())\n",
    "print(n%2)"
   ]
  },
  {
   "cell_type": "markdown",
   "id": "db55f38d",
   "metadata": {},
   "source": [
    "# check type of variable"
   ]
  },
  {
   "cell_type": "code",
   "execution_count": 2,
   "id": "2f61ebe2",
   "metadata": {},
   "outputs": [
    {
     "name": "stdout",
     "output_type": "stream",
     "text": [
      "<class 'int'>\n",
      "<class 'float'>\n"
     ]
    }
   ],
   "source": [
    "a=10\n",
    "b=10.3\n",
    "print(type(a))\n",
    "print(type(b))"
   ]
  },
  {
   "cell_type": "markdown",
   "id": "9782ea91",
   "metadata": {},
   "source": [
    "# which is grester"
   ]
  },
  {
   "cell_type": "code",
   "execution_count": 4,
   "id": "838bf569",
   "metadata": {},
   "outputs": [
    {
     "name": "stdout",
     "output_type": "stream",
     "text": [
      "34\n",
      "80\n",
      "b is greater\n"
     ]
    }
   ],
   "source": [
    "a=int(input())\n",
    "b=int(input())\n",
    "if a>b:\n",
    "    print(\"a is greater\")\n",
    "else:\n",
    "    print(\"b is greater\")"
   ]
  },
  {
   "cell_type": "markdown",
   "id": "15ff5cca",
   "metadata": {},
   "source": [
    "# average of 2 number"
   ]
  },
  {
   "cell_type": "code",
   "execution_count": 5,
   "id": "c3ce2f8e",
   "metadata": {},
   "outputs": [
    {
     "name": "stdout",
     "output_type": "stream",
     "text": [
      "4\n",
      "5\n",
      "4.5\n"
     ]
    }
   ],
   "source": [
    "a=int(input())\n",
    "b=int(input())\n",
    "avg= (a+b)/2\n",
    "print(avg)"
   ]
  },
  {
   "cell_type": "markdown",
   "id": "254e0a96",
   "metadata": {},
   "source": [
    "# square of a number"
   ]
  },
  {
   "cell_type": "markdown",
   "id": "f06f4013",
   "metadata": {},
   "source": [
    "a=int(input())\n",
    "square=a*a\n",
    "print(square)"
   ]
  },
  {
   "cell_type": "markdown",
   "id": "2a2dff52",
   "metadata": {},
   "source": [
    "# print n to 1"
   ]
  },
  {
   "cell_type": "code",
   "execution_count": null,
   "id": "a71b040d",
   "metadata": {},
   "outputs": [],
   "source": [
    "n=int(input())\n",
    "count=n\n",
    "while n>=1:\n",
    "    print(count)\n",
    "    count= count-1"
   ]
  }
 ],
 "metadata": {
  "kernelspec": {
   "display_name": "Python 3 (ipykernel)",
   "language": "python",
   "name": "python3"
  },
  "language_info": {
   "codemirror_mode": {
    "name": "ipython",
    "version": 3
   },
   "file_extension": ".py",
   "mimetype": "text/x-python",
   "name": "python",
   "nbconvert_exporter": "python",
   "pygments_lexer": "ipython3",
   "version": "3.9.6"
  }
 },
 "nbformat": 4,
 "nbformat_minor": 5
}
